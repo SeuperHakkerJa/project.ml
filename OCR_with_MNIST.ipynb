{
  "nbformat": 4,
  "nbformat_minor": 0,
  "metadata": {
    "colab": {
      "name": "OCR with MNIST.ipynb",
      "provenance": []
    },
    "kernelspec": {
      "name": "python3",
      "display_name": "Python 3"
    }
  },
  "cells": [
    {
      "cell_type": "code",
      "metadata": {
        "id": "NmSgK5g3eQhM",
        "colab_type": "code",
        "colab": {}
      },
      "source": [
        "import tensorflow as tf\n",
        "tf.enable_eager_execution()\n",
        "import matplotlib.pyplot as plt\n",
        "import numpy as np\n",
        "import random"
      ],
      "execution_count": 0,
      "outputs": []
    },
    {
      "cell_type": "code",
      "metadata": {
        "id": "vL4uwb8-fGjl",
        "colab_type": "code",
        "colab": {}
      },
      "source": [
        "# load MNIST dataset\n",
        "mnist = tf.keras.datasets.mnist\n",
        "(train_img, train_labels), (test_img, test_labels ) = mnist.load_data()\n",
        "\n",
        "# normalize imgs\n",
        "train_img = np.expand_dims(train_img, axis=-1)/255.\n",
        "train_labels = np.int64(train_labels)\n",
        "test_img = np.expand_dims(test_img, axis=-1)/255.\n",
        "test_labels = np.int64(test_labels)\n"
      ],
      "execution_count": 0,
      "outputs": []
    },
    {
      "cell_type": "code",
      "metadata": {
        "id": "VjGjxg1qfNLT",
        "colab_type": "code",
        "colab": {
          "base_uri": "https://localhost:8080/",
          "height": 483
        },
        "outputId": "dfd14da5-3ddc-4ad7-e4a3-a3bc7da98c86"
      },
      "source": [
        "# preview data sets\n",
        "plt.figure(figsize=(8,8))\n",
        "random_inds = np.random.choice(60000,25)\n",
        "for i in range(25):\n",
        "    plt.subplot(5,5,i+1)\n",
        "    plt.xticks([])\n",
        "    plt.yticks([])\n",
        "    plt.grid(False)\n",
        "    image_ind = random_inds[i]\n",
        "    plt.imshow(np.squeeze(train_images[image_ind]), cmap=plt.cm.binary)\n",
        "    plt.xlabel(train_labels[image_ind])"
      ],
      "execution_count": 37,
      "outputs": [
        {
          "output_type": "display_data",
          "data": {
            "image/png": "[encoded data removed]",
            "text/plain": [
              "<Figure size 576x576 with 25 Axes>"
            ]
          },
          "metadata": {
            "tags": []
          }
        }
      ]
    },
    {
      "cell_type": "code",
      "metadata": {
        "id": "wrNszrTogxc0",
        "colab_type": "code",
        "colab": {}
      },
      "source": [
        "## Fully Connected Layer\n",
        "def build_fc_layer():\n",
        "  \n",
        "  fc_model = tf.keras.Sequential([\n",
        "      \n",
        "      tf.keras.layers.Flatten(),\n",
        "      tf.keras.layers.Dense(128, activation=tf.nn.relu),\n",
        "      tf.keras.layers.Dense(128, activation=tf.nn.relu),\n",
        "      tf.keras.layers.Dense(128, activation=tf.nn.relu),\n",
        "\n",
        "      tf.keras.layers.Dense(10, activation=tf.nn.softmax) ## softmax for classification, 10 digits\n",
        "  ])\n",
        "  \n",
        "  return fc_model"
      ],
      "execution_count": 0,
      "outputs": []
    },
    {
      "cell_type": "code",
      "metadata": {
        "id": "zDQthEqRiQm2",
        "colab_type": "code",
        "colab": {
          "base_uri": "https://localhost:8080/",
          "height": 493
        },
        "outputId": "f011ff6f-87c6-496c-998a-a6856a983e5b"
      },
      "source": [
        "nn = build_fc_layer()\n",
        "nn.compile( optimizer=tf.train.GradientDescentOptimizer( learning_rate= 1e-1),\n",
        "            loss='sparse_categorical_crossentropy', metrics=['accuracy'])\n",
        "nn.fit(train_img, train_labels, batch_size=64, epochs=5)\n",
        "nn.summary()"
      ],
      "execution_count": 31,
      "outputs": [
        {
          "output_type": "stream",
          "text": [
            "Epoch 1/5\n",
            "60000/60000 [==============================] - 3s 49us/sample - loss: 0.3424 - acc: 0.8970\n",
            "Epoch 2/5\n",
            "60000/60000 [==============================] - 3s 47us/sample - loss: 0.1343 - acc: 0.9589\n",
            "Epoch 3/5\n",
            "60000/60000 [==============================] - 3s 48us/sample - loss: 0.0949 - acc: 0.9705\n",
            "Epoch 4/5\n",
            "60000/60000 [==============================] - 3s 50us/sample - loss: 0.0717 - acc: 0.9782\n",
            "Epoch 5/5\n",
            "60000/60000 [==============================] - 3s 49us/sample - loss: 0.0591 - acc: 0.9819\n",
            "Model: \"sequential_9\"\n",
            "_________________________________________________________________\n",
            "Layer (type)                 Output Shape              Param #   \n",
            "=================================================================\n",
            "flatten_9 (Flatten)          multiple                  0         \n",
            "_________________________________________________________________\n",
            "dense_19 (Dense)             multiple                  100480    \n",
            "_________________________________________________________________\n",
            "dense_20 (Dense)             multiple                  16512     \n",
            "_________________________________________________________________\n",
            "dense_21 (Dense)             multiple                  16512     \n",
            "_________________________________________________________________\n",
            "dense_22 (Dense)             multiple                  1290      \n",
            "=================================================================\n",
            "Total params: 134,794\n",
            "Trainable params: 134,794\n",
            "Non-trainable params: 0\n",
            "_________________________________________________________________\n"
          ],
          "name": "stdout"
        }
      ]
    },
    {
      "cell_type": "code",
      "metadata": {
        "id": "1Rb5e_BLiuZ5",
        "colab_type": "code",
        "colab": {
          "base_uri": "https://localhost:8080/",
          "height": 51
        },
        "outputId": "abd799e0-f873-4c7e-a6d1-c7d68a1dc604"
      },
      "source": [
        "test_acc = nn.evaluate(test_img, test_labels)[1]\n",
        "print(test_acc)"
      ],
      "execution_count": 47,
      "outputs": [
        {
          "output_type": "stream",
          "text": [
            "10000/10000 [==============================] - 0s 32us/sample - loss: 0.0794 - acc: 0.9748\n",
            "0.9748\n"
          ],
          "name": "stdout"
        }
      ]
    },
    {
      "cell_type": "markdown",
      "metadata": {
        "id": "LMJ9MhHnlPyo",
        "colab_type": "text"
      },
      "source": [
        "## Using CNN as the learning model\n"
      ]
    },
    {
      "cell_type": "code",
      "metadata": {
        "id": "k5g5URW1pP43",
        "colab_type": "code",
        "colab": {}
      },
      "source": [
        "def build_cnn_model():\n",
        "    cnn = tf.keras.Sequential([\n",
        "\n",
        "        tf.keras.layers.Conv2D(filters=24, kernel_size=(3,3), input_shape=(28, 28, 1), activation=tf.nn.relu), \n",
        "\n",
        "        tf.keras.layers.MaxPool2D(pool_size=(2,2)), \n",
        "\n",
        "        tf.keras.layers.Conv2D(filters=36, kernel_size=(3,3), activation=tf.nn.relu), \n",
        "\n",
        "        tf.keras.layers.MaxPool2D(pool_size=(2,2)), \n",
        "\n",
        "        tf.keras.layers.Flatten(),\n",
        "        tf.keras.layers.Dense(128, activation=tf.nn.relu),\n",
        "        tf.keras.layers.Dense(10, activation=tf.nn.softmax) \n",
        "    ])\n",
        "    return cnn\n",
        "  "
      ],
      "execution_count": 0,
      "outputs": []
    },
    {
      "cell_type": "code",
      "metadata": {
        "id": "JR-YutkynOI0",
        "colab_type": "code",
        "colab": {
          "base_uri": "https://localhost:8080/",
          "height": 204
        },
        "outputId": "a72b598f-4d06-427c-a87e-e18de180538e"
      },
      "source": [
        "cnn = build_cnn_model()\n",
        "cnn.compile(optimizer=tf.train.GradientDescentOptimizer(learning_rate=1e-1),\n",
        "            loss=\"sparse_categorical_crossentropy\", metrics=['accuracy'])\n",
        "cnn.fit(train_img, train_labels, batch_size=64, epochs = 5)"
      ],
      "execution_count": 53,
      "outputs": [
        {
          "output_type": "stream",
          "text": [
            "Epoch 1/5\n",
            "60000/60000 [==============================] - 38s 631us/sample - loss: 0.2423 - acc: 0.9240\n",
            "Epoch 2/5\n",
            "60000/60000 [==============================] - 38s 638us/sample - loss: 0.0717 - acc: 0.9776\n",
            "Epoch 3/5\n",
            "60000/60000 [==============================] - 38s 641us/sample - loss: 0.0503 - acc: 0.9844\n",
            "Epoch 4/5\n",
            "60000/60000 [==============================] - 38s 633us/sample - loss: 0.0398 - acc: 0.9877\n",
            "Epoch 5/5\n",
            "60000/60000 [==============================] - 38s 638us/sample - loss: 0.0309 - acc: 0.9900\n"
          ],
          "name": "stdout"
        },
        {
          "output_type": "execute_result",
          "data": {
            "text/plain": [
              "<tensorflow.python.keras.callbacks.History at 0x7fd3b99cc278>"
            ]
          },
          "metadata": {
            "tags": []
          },
          "execution_count": 53
        }
      ]
    },
    {
      "cell_type": "code",
      "metadata": {
        "id": "XRb3SA5Pn8xA",
        "colab_type": "code",
        "colab": {
          "base_uri": "https://localhost:8080/",
          "height": 391
        },
        "outputId": "777493ec-3d80-4fc0-f2e0-b349437c66e2"
      },
      "source": [
        "cnn.summary()"
      ],
      "execution_count": 55,
      "outputs": [
        {
          "output_type": "stream",
          "text": [
            "Model: \"sequential_15\"\n",
            "_________________________________________________________________\n",
            "Layer (type)                 Output Shape              Param #   \n",
            "=================================================================\n",
            "conv2d_10 (Conv2D)           (None, 26, 26, 24)        240       \n",
            "_________________________________________________________________\n",
            "max_pooling2d_10 (MaxPooling (None, 13, 13, 24)        0         \n",
            "_________________________________________________________________\n",
            "conv2d_11 (Conv2D)           (None, 11, 11, 36)        7812      \n",
            "_________________________________________________________________\n",
            "max_pooling2d_11 (MaxPooling (None, 5, 5, 36)          0         \n",
            "_________________________________________________________________\n",
            "flatten_15 (Flatten)         (None, 900)               0         \n",
            "_________________________________________________________________\n",
            "dense_33 (Dense)             (None, 128)               115328    \n",
            "_________________________________________________________________\n",
            "dense_34 (Dense)             (None, 10)                1290      \n",
            "=================================================================\n",
            "Total params: 124,670\n",
            "Trainable params: 124,670\n",
            "Non-trainable params: 0\n",
            "_________________________________________________________________\n"
          ],
          "name": "stdout"
        }
      ]
    },
    {
      "cell_type": "code",
      "metadata": {
        "id": "s8r4-xZtnZ4N",
        "colab_type": "code",
        "colab": {
          "base_uri": "https://localhost:8080/",
          "height": 34
        },
        "outputId": "6b61ecda-8d1d-4c34-d215-9abc830bf809"
      },
      "source": [
        "loss, acc = cnn.evaluate(test_img, test_labels)"
      ],
      "execution_count": 58,
      "outputs": [
        {
          "output_type": "stream",
          "text": [
            "10000/10000 [==============================] - 2s 247us/sample - loss: 0.0356 - acc: 0.9883\n"
          ],
          "name": "stdout"
        }
      ]
    },
    {
      "cell_type": "code",
      "metadata": {
        "id": "77VqdfRMrzRb",
        "colab_type": "code",
        "colab": {}
      },
      "source": [
        ""
      ],
      "execution_count": 0,
      "outputs": []
    }
  ]
}