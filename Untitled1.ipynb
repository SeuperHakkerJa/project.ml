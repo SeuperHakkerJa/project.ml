{
 "cells": [
  {
   "cell_type": "code",
   "execution_count": 1,
   "metadata": {},
   "outputs": [],
   "source": [
    "import numpy as np\n",
    "import matplotlib.pyplot as plt\n"
   ]
  },
  {
   "cell_type": "code",
   "execution_count": 8,
   "metadata": {},
   "outputs": [
    {
     "ename": "IndentationError",
     "evalue": "expected an indented block (<ipython-input-8-044ce9397e21>, line 5)",
     "output_type": "error",
     "traceback": [
      "\u001b[0;36m  File \u001b[0;32m\"<ipython-input-8-044ce9397e21>\"\u001b[0;36m, line \u001b[0;32m5\u001b[0m\n\u001b[0;31m    self.dimension = dimension\u001b[0m\n\u001b[0m                               ^\u001b[0m\n\u001b[0;31mIndentationError\u001b[0m\u001b[0;31m:\u001b[0m expected an indented block\n"
     ]
    }
   ],
   "source": [
    "class perceptron:\n",
    "    \n",
    "    def __init__(self, dimension):\n",
    "        \n",
    "        self.dimension = dimension \n",
    "        self.w = np.zeros(dimension+1)\n",
    "\n",
    "\n",
    "    def cyclic_train(self,X,Y):\n",
    "        #X should be a list including the tuples storing the inputing x\n",
    "        w=self.w       \n",
    "        train_set_size=len(X)\n",
    "        X=np.array([list(x)+[1] for x in X])\n",
    "        error_loc=range(train_set_size)\n",
    "        i=0\n",
    "        while i!=error_loc:           \n",
    "            #correct and record the last error location\n",
    "            if sign(np.dot(X[i],w))!=Y[i]:\n",
    "                w=w+X[i]*Y[i]\n",
    "                error_loc=i\n",
    "            #move on and iterate cyclic\n",
    "            if i<train_set_size-1:\n",
    "                i+=1\n",
    "            else:\n",
    "                i=0\n",
    "        self.w=w\n",
    "\n",
    "\n",
    "    def predict(self,x):\n",
    "        return sign(np.dot(self.w,x))\n",
    "\n",
    "\n",
    "def sign(x):\n",
    "    if x>0:\n",
    "        return 1\n",
    "    elif x<0:\n",
    "        return -1\n",
    "    else:\n",
    "        return 0\n",
    "\n",
    "\n",
    "#The prepared test data\n",
    "Xtr=[(2,4),(-1,2),(-3,-1),(-1,-4),(1,-1),(2,-4)]\n",
    "Ytr=[1,1,1,-1,-1,-1]\n",
    "\n",
    "\n",
    "#test\n",
    "p1=perceptron(2)\n",
    "p1.cyclic_train(Xtr,Ytr)\n",
    "\n",
    "\n",
    "fig=plt.figure()\n",
    "\n",
    "\n",
    "axes=fig.add_axes([0.1, 0.1, 0.8, 0.8])\n",
    "\n",
    "\n",
    "axes.scatter([Xtr[i][0] for i in range(len(Xtr)) if Ytr[i]==1],\\\n",
    "             [Xtr[i][1] for i in range(len(Xtr)) if Ytr[i]==1],color='red')\n",
    "\n",
    "\n",
    "axes.scatter([Xtr[i][0] for i in range(len(Xtr)) if Ytr[i]==-1],\\\n",
    "             [Xtr[i][1] for i in range(len(Xtr)) if Ytr[i]==-1],color='blue')\n",
    "\n",
    "\n",
    "k=-p1.w[0]/p1.w[1]\n",
    "b=-p1.w[2]/p1.w[1]    \n",
    "axes.plot([-10,10],[k*(-10)+b,k*10+b])\n",
    "\n",
    "\n",
    "axes.spines['right'].set_color('none')\n",
    "axes.spines['top'].set_color('none')\n",
    "\n",
    "\n",
    "axes.xaxis.set_ticks_position('bottom')\n",
    "axes.spines['bottom'].set_position(('data',0))\n",
    "#set position of x spine to x=0\n",
    "\n",
    "\n",
    "axes.yaxis.set_ticks_position('left')\n",
    "axes.spines['left'].set_position(('data',0))  \n",
    "#set position of y spine to y=0\n",
    "\n",
    "\n",
    "plt.show()\n",
    "\n"
   ]
  },
  {
   "cell_type": "code",
   "execution_count": 11,
   "metadata": {},
   "outputs": [
    {
     "ename": "SyntaxError",
     "evalue": "invalid character in identifier (<ipython-input-11-846910fc739d>, line 9)",
     "output_type": "error",
     "traceback": [
      "\u001b[0;36m  File \u001b[0;32m\"<ipython-input-11-846910fc739d>\"\u001b[0;36m, line \u001b[0;32m9\u001b[0m\n\u001b[0;31m    def cyclic_train(self,X,Y):\u001b[0m\n\u001b[0m    ^\u001b[0m\n\u001b[0;31mSyntaxError\u001b[0m\u001b[0;31m:\u001b[0m invalid character in identifier\n"
     ]
    }
   ],
   "source": [
    "class perceptron:\n",
    "    def __init__( self, dimension ):\n",
    "        \n",
    "        self.dimension = dimension\n",
    "        self.w = np.zeros( dimension + 1 )\n",
    "    def cyclic_train( self, X, Y ):\n",
    "        \n",
    "        w = self.w\n",
    "        train_set_size = len( X )\n",
    "        X = np.array( [list(x)] + [1] for x in X)\n",
    "        error_loc = range( train_set_size )\n",
    "   \n",
    "\n",
    "    def cyclic_train(self,X,Y):\n",
    "        #X should be a list including the tuples storing the inputing x\n",
    "        w=self.w       \n",
    "        train_set_size=len(X)\n",
    "        X=np.array([list(x)+[1] for x in X])\n",
    "        error_loc=range(train_set_size)\n",
    "        i=0\n",
    "        while i!=error_loc:           \n",
    "            #correct and record the last error location\n",
    "            if sign(np.dot(X[i],w))!=Y[i]:\n",
    "                w=w+X[i]*Y[i]\n",
    "                error_loc=i\n",
    "            #move on and iterate cyclic\n",
    "            if i<train_set_size-1:\n",
    "                i+=1\n",
    "            else:\n",
    "                i=0\n",
    "        self.w=w\n",
    "\n",
    "\n",
    "    def predict(self,x):\n",
    "        return sign(np.dot(self.w,x))\n",
    "\n"
   ]
  },
  {
   "cell_type": "code",
   "execution_count": null,
   "metadata": {},
   "outputs": [],
   "source": []
  }
 ],
 "metadata": {
  "kernelspec": {
   "display_name": "Python 3",
   "language": "python",
   "name": "python3"
  },
  "language_info": {
   "codemirror_mode": {
    "name": "ipython",
    "version": 3
   },
   "file_extension": ".py",
   "mimetype": "text/x-python",
   "name": "python",
   "nbconvert_exporter": "python",
   "pygments_lexer": "ipython3",
   "version": "3.6.8"
  }
 },
 "nbformat": 4,
 "nbformat_minor": 2
}
