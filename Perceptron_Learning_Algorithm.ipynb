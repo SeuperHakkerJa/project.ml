{
 "cells": [
  {
   "cell_type": "code",
   "execution_count": 2,
   "metadata": {},
   "outputs": [],
   "source": [
    "# THE PERCEPTRON LEARNING ALGORITHM\n",
    "import numpy as np\n",
    "import random"
   ]
  },
  {
   "cell_type": "code",
   "execution_count": 10,
   "metadata": {},
   "outputs": [],
   "source": [
    "class Point:\n",
    "    x = 0\n",
    "    y = 0 \n",
    "    def __init__(self,x,y):\n",
    "        self.x = x\n",
    "        self.y = y"
   ]
  },
  {
   "cell_type": "code",
   "execution_count": 12,
   "metadata": {},
   "outputs": [],
   "source": [
    "class Line:\n",
    "    p1 = None\n",
    "    p2 = None\n",
    "    y_int = 0\n",
    "    slope = 0\n",
    "    \n",
    "    def __init__(self, p1, p2):\n",
    "        self.p1 = p1\n",
    "        self.p2 = p2\n",
    "        \n",
    "        dx = p2.x - p1.x\n",
    "        dy = p2.y - p1.y\n",
    "    \n",
    "        # check if the line is vertical\n",
    "        if dx == 0 :\n",
    "            self.is_vertical = True\n",
    "            self.slope = None \n",
    "        \n",
    "        else:\n",
    "            # calculate slope\n",
    "            self.is_vertical = False\n",
    "            self.slope = dy/dx\n",
    "        \n",
    "        # derive the formula for the line in terms of x an y\n",
    "        # (y - y1) = m(x - x1) where (x1,y1) is coord of a point and m is the slope\n",
    "        # General Form y = mx + b, we know m so only b is needed\n",
    "        # we call it y_int since it is the y interception\n",
    "        \n",
    "        self.y_int = p1.y - self.slope * p1.x\n",
    "          \n",
    "    \n",
    "    def mapping(self, p):\n",
    "        # to check which side is p at and thus decide its sign\n",
    "        \n",
    "        # if line is not vertical, compare the y values\n",
    "        if self.is_vertical == False:\n",
    "            line_y_value = self.slope*p.x + self.y_int\n",
    "            diff = p.y - line_y_value\n",
    "            \n",
    "        # if line is vertical, compare the x values\n",
    "        else:\n",
    "            line_x_value = self.p1.x\n",
    "            diff = p.x - line_x_value\n",
    "        \n",
    "        return np.sign(diff)        \n",
    "            "
   ]
  },
  {
   "cell_type": "code",
   "execution_count": 5,
   "metadata": {},
   "outputs": [],
   "source": [
    "class Perceptron_Learning_Algorithm:\n",
    "    def __init__(self):\n",
    "        self.weight = [0,0,0]\n",
    "    \n",
    "    def predict(self, x):\n",
    "        # x is a 2-D vector\n",
    "        # vec_x = [ 1, x[1], x[2] ] x_0 is the artificial index\n",
    "        vec_x = [1, x.x, x.y]\n",
    "        dot_product = np.dot(vec_x, self.weight)\n",
    "        return np.sign(dot_product)\n",
    "    \n",
    "    def train(self, x, y ): # x and y here refer to the domain and codomain of the function\n",
    "        \n",
    "        outcome = self.predict(x) ## yields 1/-1       \n",
    "        if outcome != y:\n",
    "            # update weight\n",
    "            vec_x = [1, x.x, x.y]\n",
    "            self.weight += np.multiply(y, vec_x )\n",
    "        return outcome == y                "
   ]
  },
  {
   "cell_type": "code",
   "execution_count": 6,
   "metadata": {},
   "outputs": [],
   "source": [
    "class Run_PLA:\n",
    "    def __init__(self, num_of_sample):\n",
    "        self.num_of_sample = num_of_sample\n",
    "        ## generate the set of points\n",
    "        self.points = []\n",
    "        for i in range(num_of_sample):\n",
    "            x = random.uniform(-1, 1)\n",
    "            y = random.uniform(-1, 1)\n",
    "            self.points.append(Point(x, y))\n",
    "        \n",
    "        ## generate the line\n",
    "        line_point_1_x = random.uniform(-1,1)\n",
    "        line_point_1_y = random.uniform(-1,1)\n",
    "        line_point_1 = Point( line_point_1_x, line_point_1_y )\n",
    "        \n",
    "        line_point_2_x = random.uniform(-1,1) \n",
    "        line_point_2_y = random.uniform(-1,1)\n",
    "        line_point_2 = Point( line_point_2_x, line_point_2_y )\n",
    "        \n",
    "        self.target = Line(line_point_1, line_point_2)\n",
    "        self.PLA = Perceptron_Learning_Algorithm()\n",
    "    \n",
    "    def test_agree( self, point ):\n",
    "        \n",
    "        cur_prediction = self.PLA.predict( point )\n",
    "        actual_value = self.target.mapping( point )\n",
    "        return cur_prediction == actual_value\n",
    "    \n",
    "    def test_convergence(self):\n",
    "        iters = 0\n",
    "        testidx = 0\n",
    "        while True:\n",
    "            \n",
    "            actual_value = self.target.mapping(self.points[testidx])\n",
    "            success = self.PLA.train(self.points[testidx], actual_value )\n",
    "            \n",
    "            if success:\n",
    "                allgood = True\n",
    "                \n",
    "                for i in range(self.num_of_sample):\n",
    "                    agree = self.test_agree(self.points[i])\n",
    "                    if not agree:\n",
    "                        allgood = False\n",
    "                        break\n",
    "                if allgood:\n",
    "                    break\n",
    "            else:\n",
    "                iters = iters + 1\n",
    "            testidx = int(np.random.uniform(0, self.num_of_sample-0.5))  \n",
    "        return iters\n",
    "\n",
    "    \n",
    "    \n",
    "    def disagree_probability(self):\n",
    "            \n",
    "            n_disagree = 0\n",
    "            for x in range(1000):\n",
    "                testpoint= Point(random.uniform(-1.0,1.0),random.uniform(-1.0,1.0))\n",
    "                agree = self.test_agree(testpoint)\n",
    "                if not agree:\n",
    "                    n_disagree += 1\n",
    "\n",
    "            prob = float(n_disagree)/1000.0\n",
    "            return prob\n",
    "\n",
    "            \n",
    "            "
   ]
  },
  {
   "cell_type": "code",
   "execution_count": 7,
   "metadata": {},
   "outputs": [],
   "source": [
    "def main(test_dim, numtests):\n",
    "    converge_iters = []\n",
    "    probs = []\n",
    "    \n",
    "    for a in range(numtests):\n",
    "        cur_test = Run_PLA(test_dim)\n",
    "        cur_conv = cur_test.test_convergence()\n",
    "        converge_iters.append(cur_conv)\n",
    "        cur_prob = cur_test.disagree_probability()\n",
    "        probs.append(cur_prob)\n",
    "        \n",
    "    avg_iters = np.average(converge_iters)\n",
    "    avg_probs = np.average(probs)\n",
    "    prefix_str = \"For N = \" + str(test_dim) + \", \"\n",
    "    print(prefix_str + \"convergence took on average \" + str(avg_iters) + \" iterations\")\n",
    "    print(prefix_str + \"probability of disagreeing with target function on average is \" + str(avg_probs))"
   ]
  },
  {
   "cell_type": "code",
   "execution_count": 8,
   "metadata": {},
   "outputs": [
    {
     "name": "stdout",
     "output_type": "stream",
     "text": [
      "For N = 100, convergence took on average 119.864 iterations\n",
      "For N = 100, probability of disagreeing with target function on average is 0.012373\n"
     ]
    }
   ],
   "source": [
    "main( 100, 1000 )"
   ]
  },
  {
   "cell_type": "code",
   "execution_count": 13,
   "metadata": {},
   "outputs": [
    {
     "name": "stdout",
     "output_type": "stream",
     "text": [
      "For N = 10, convergence took on average 9.4936 iterations\n",
      "For N = 10, probability of disagreeing with target function on average is 0.10939299999999999\n"
     ]
    }
   ],
   "source": [
    "main( 10, 5000)"
   ]
  },
  {
   "cell_type": "code",
   "execution_count": null,
   "metadata": {},
   "outputs": [],
   "source": []
  }
 ],
 "metadata": {
  "kernelspec": {
   "display_name": "Python 3",
   "language": "python",
   "name": "python3"
  },
  "language_info": {
   "codemirror_mode": {
    "name": "ipython",
    "version": 3
   },
   "file_extension": ".py",
   "mimetype": "text/x-python",
   "name": "python",
   "nbconvert_exporter": "python",
   "pygments_lexer": "ipython3",
   "version": "3.6.8"
  }
 },
 "nbformat": 4,
 "nbformat_minor": 2
}
