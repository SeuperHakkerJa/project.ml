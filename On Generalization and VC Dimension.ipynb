{
 "cells": [
  {
   "cell_type": "markdown",
   "metadata": {},
   "source": [
    "### For an H with dvc = 10, if you want 95% confidence that your generalization error is at most 0.05, what is the closest numerical approximation of the sample size that the VC generalization bound predicts?"
   ]
  },
  {
   "cell_type": "code",
   "execution_count": 4,
   "metadata": {},
   "outputs": [
    {
     "name": "stdout",
     "output_type": "stream",
     "text": [
      "The closest numerical approximation of the minimum sample size that the VC generalization bound predicts is 452956\n"
     ]
    }
   ],
   "source": [
    "import numpy as np\n",
    "\n",
    "def get_N(dvc=10, delta=0.05, epsilon=0.05, initial_N=1000, tolerance = 1):\n",
    "    \"\"\"Uses recursion to iterate N until it converges within a tolerance\n",
    "       \n",
    "       Args: dvc = VC dimension\n",
    "             delta = 1 - %confidence\n",
    "             epsilon = generalization error\n",
    "             initial_N = initial guess of sample size \n",
    "             tolerance = constraint at which to stop the recursion and state convergence\n",
    "             \n",
    "        Returns: N = Number of samples required\n",
    "    \n",
    "    \"\"\"\n",
    "    \n",
    "    new_N = 8 / epsilon**2 * np.log((4 * ((2 * initial_N) ** dvc)) / delta) # formula to generate new N\n",
    "    \n",
    "    if abs(new_N - initial_N) < tolerance: # Did it converge within a specific tolerance?\n",
    "        return new_N\n",
    "          \n",
    "    else: # If so return N\n",
    "        return get_N(dvc, delta, epsilon, new_N, tolerance) # If not iterate with new N\n",
    "\n",
    "print(\"The closest numerical approximation of the minimum sample \"\\\n",
    "      \"size that the VC generalization bound predicts is {}\".format(int(get_N())))\n",
    "\n"
   ]
  },
  {
   "cell_type": "code",
   "execution_count": null,
   "metadata": {},
   "outputs": [],
   "source": []
  }
 ],
 "metadata": {
  "kernelspec": {
   "display_name": "Python 3",
   "language": "python",
   "name": "python3"
  },
  "language_info": {
   "codemirror_mode": {
    "name": "ipython",
    "version": 3
   },
   "file_extension": ".py",
   "mimetype": "text/x-python",
   "name": "python",
   "nbconvert_exporter": "python",
   "pygments_lexer": "ipython3",
   "version": "3.6.8"
  }
 },
 "nbformat": 4,
 "nbformat_minor": 2
}
